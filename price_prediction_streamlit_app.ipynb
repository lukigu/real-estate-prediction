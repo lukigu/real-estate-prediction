{
  "nbformat": 4,
  "nbformat_minor": 0,
  "metadata": {
    "colab": {
      "provenance": [],
      "authorship_tag": "ABX9TyNtpJJDPpWPemipZ7UWXLGa",
      "include_colab_link": true
    },
    "kernelspec": {
      "name": "python3",
      "display_name": "Python 3"
    },
    "language_info": {
      "name": "python"
    }
  },
  "cells": [
    {
      "cell_type": "markdown",
      "metadata": {
        "id": "view-in-github",
        "colab_type": "text"
      },
      "source": [
        "<a href=\"https://colab.research.google.com/github/lukigu/real-estate-prediction/blob/main/price_prediction_streamlit_app.ipynb\" target=\"_parent\"><img src=\"https://colab.research.google.com/assets/colab-badge.svg\" alt=\"Open In Colab\"/></a>"
      ]
    },
    {
      "cell_type": "code",
      "execution_count": 1,
      "metadata": {
        "id": "lyTGVsahqeDI",
        "colab": {
          "base_uri": "https://localhost:8080/"
        },
        "outputId": "b55c6f2a-b272-436c-8e55-442133e194b6"
      },
      "outputs": [
        {
          "output_type": "stream",
          "name": "stdout",
          "text": [
            "\u001b[2K     \u001b[90m━━━━━━━━━━━━━━━━━━━━━━━━━━━━━━━━━━━━━━━━\u001b[0m \u001b[32m8.1/8.1 MB\u001b[0m \u001b[31m19.7 MB/s\u001b[0m eta \u001b[36m0:00:00\u001b[0m\n",
            "\u001b[2K     \u001b[90m━━━━━━━━━━━━━━━━━━━━━━━━━━━━━━━━━━━━━━\u001b[0m \u001b[32m164.8/164.8 kB\u001b[0m \u001b[31m11.1 MB/s\u001b[0m eta \u001b[36m0:00:00\u001b[0m\n",
            "\u001b[?25h  Preparing metadata (setup.py) ... \u001b[?25l\u001b[?25hdone\n",
            "\u001b[2K     \u001b[90m━━━━━━━━━━━━━━━━━━━━━━━━━━━━━━━━━━━━━━\u001b[0m \u001b[32m188.5/188.5 kB\u001b[0m \u001b[31m10.1 MB/s\u001b[0m eta \u001b[36m0:00:00\u001b[0m\n",
            "\u001b[2K     \u001b[90m━━━━━━━━━━━━━━━━━━━━━━━━━━━━━━━━━━━━━━━━\u001b[0m \u001b[32m4.7/4.7 MB\u001b[0m \u001b[31m49.8 MB/s\u001b[0m eta \u001b[36m0:00:00\u001b[0m\n",
            "\u001b[2K     \u001b[90m━━━━━━━━━━━━━━━━━━━━━━━━━━━━━━━━━━━━━━━━\u001b[0m \u001b[32m82.1/82.1 kB\u001b[0m \u001b[31m1.1 MB/s\u001b[0m eta \u001b[36m0:00:00\u001b[0m\n",
            "\u001b[2K     \u001b[90m━━━━━━━━━━━━━━━━━━━━━━━━━━━━━━━━━━━━━━━━\u001b[0m \u001b[32m62.7/62.7 kB\u001b[0m \u001b[31m5.7 MB/s\u001b[0m eta \u001b[36m0:00:00\u001b[0m\n",
            "\u001b[2K     \u001b[90m━━━━━━━━━━━━━━━━━━━━━━━━━━━━━━━━━━━━━━\u001b[0m \u001b[32m341.8/341.8 kB\u001b[0m \u001b[31m20.9 MB/s\u001b[0m eta \u001b[36m0:00:00\u001b[0m\n",
            "\u001b[?25h  Building wheel for validators (setup.py) ... \u001b[?25l\u001b[?25hdone\n"
          ]
        }
      ],
      "source": [
        "!pip install -q streamlit"
      ]
    },
    {
      "cell_type": "code",
      "source": [
        "%%writefile app.py\n",
        "\n",
        "import streamlit as st\n",
        "import pandas as pd\n",
        "import xgboost as xgb\n",
        "from sklearn.model_selection import train_test_split\n",
        "from sklearn.metrics import mean_absolute_error, mean_squared_error, r2_score\n",
        "import matplotlib.pyplot as plt\n",
        "\n",
        "from sklearn.metrics import accuracy_score\n",
        "import numpy as np\n",
        "\n",
        "st.title(\"Predykacja cen nieruchomości\")\n",
        "\n",
        "# File uploader\n",
        "uploaded_file = st.file_uploader(\"Prześlij plik csv z danymi:\", type=[\"csv\"])\n",
        "\n",
        "if uploaded_file is not None:\n",
        "    # Read CSV file\n",
        "    price_data = pd.read_csv(uploaded_file, parse_dates=True, index_col=0)\n",
        "\n",
        "    # Display the data\n",
        "    st.write(price_data)\n",
        "\n",
        "\n",
        "\n",
        "    #price_data = df[0]\n",
        "    price_data[\"adj_cena\"] = price_data[\"srednia cena\"] / price_data[\"inflacja\"] * 100\n",
        "    price_data[\"nastepny_kwartal\"] = price_data[\"adj_cena\"].shift(-3)\n",
        "    price_data.dropna(inplace=True)\n",
        "    price_data[\"change\"] = (price_data[\"nastepny_kwartal\"] > price_data[\"adj_cena\"]).astype(int)\n",
        "    predictors = [ 'pkb', 'liczba studentow na 10tys','liczba sprzedanych lokali',\n",
        "       'srednie zarobki w wojewodztwie', 'adj_cena']\n",
        "    target = \"change\"\n",
        "\n",
        "    st.dataframe(price_data)\n",
        "\n",
        "\n",
        "    default_value = 20\n",
        "    default_value1 = 4\n",
        "    START = st.text_input(\"Ile kwartałów w przeszłość chcesz wykorzystać do predykcji\", default_value)\n",
        "    STEP = st.text_input(\"Ile kwaratłów w przyszłość chcesz przewidzieć\", default_value1)\n",
        "    START = int(START)\n",
        "    STEP = int(STEP)\n",
        "    STEP1 = STEP + 2\n",
        "    params = {\n",
        "        'objective': 'binary:logistic',  # Specify the objective as binary classification\n",
        "        'n_estimators': 100,  # Number of trees in the ensemble\n",
        "        'learning_rate': 0.1,  # Learning rate for boosting\n",
        "        'max_depth': 3,  # Maximum tree depth\n",
        "        'subsample': 0.8,  # Subsample ratio of the training instances\n",
        "        'colsample_bytree': 0.8,  # Subsample ratio of columns when constructing each tree\n",
        "        'random_state': 1  # Random state for reproducibility\n",
        "    }\n",
        "\n",
        "\n",
        "    def predict(train, test, predictors, target):\n",
        "        model = xgb.XGBClassifier(**params)\n",
        "        model.fit(train[predictors], train[target])\n",
        "        preds = model.predict(test[predictors])\n",
        "        return preds\n",
        "\n",
        "    def backtest(data, predictors, target):\n",
        "        all_preds = []\n",
        "        for i in range(START, data.shape[0], STEP):\n",
        "            train = price_data.iloc[:i]\n",
        "            test = price_data.iloc[i:(i+STEP)]\n",
        "            all_preds.append(predict(train, test, predictors, target))\n",
        "\n",
        "        preds = np.concatenate(all_preds)\n",
        "        return preds, accuracy_score(data.iloc[START:][target], preds)\n",
        "\n",
        "    def predict1(train, test, predictors, target):\n",
        "        model = xgb.XGBClassifier(**params)\n",
        "        model.fit(train[predictors], train[target])\n",
        "        preds = model.predict(test[predictors])\n",
        "        return preds\n",
        "\n",
        "    def backtest1(data, predictors, target):\n",
        "        all_preds = []\n",
        "        for i in range(START, data.shape[0], STEP):\n",
        "            train = price_data.iloc[:i]\n",
        "            test = price_data.iloc[i:(i+STEP)]\n",
        "            all_preds.append(predict1(train, test, predictors, target))\n",
        "        preds = np.concatenate(all_preds)\n",
        "        # Make prediction for one year\n",
        "        one_year_data = data.iloc[-STEP1:]\n",
        "        one_year_preds = predict1(data, one_year_data, predictors, target)\n",
        "        return preds, accuracy_score(data.iloc[START:][target], preds), one_year_preds\n",
        "\n",
        "    # Button\n",
        "    button_clicked = st.button(\"Potwierdź\")\n",
        "\n",
        "    # Check if the button is clicked\n",
        "    if button_clicked:\n",
        "\n",
        "        preds, accuracy = backtest(price_data, predictors, target)\n",
        "\n",
        "        pred_match = (preds == price_data[target].iloc[START:])\n",
        "        pred_match[pred_match == True] = \"green\"\n",
        "        pred_match[pred_match == False] = \"red\"\n",
        "\n",
        "        # Generate scatter plot\n",
        "        plot_data = price_data.iloc[START:].copy()\n",
        "        fig, ax = plt.subplots()\n",
        "        plot_data.reset_index().plot.scatter(x=\"rok\", y=\"adj_cena\", color=pred_match, ax=ax)\n",
        "        plt.xticks(rotation=45, ha='right')\n",
        "\n",
        "        # Display the plot in Streamlit\n",
        "        st.pyplot(fig)\n",
        "\n",
        "        st.write(\"Skuteczność predykcji:\", accuracy)\n",
        "\n",
        "        # Button\n",
        "        #button_clicked1 = st.button(\"Sprawdź predykcje na przyszły rok\")\n",
        "\n",
        "        # Check if the button is clicked\n",
        "        #if button_clicked1:\n",
        "\n",
        "        preds1, accuracy1, one_year_preds = backtest1(price_data, predictors, target)\n",
        "\n",
        "        QQQ = {'Q' : ['Q2', 'Q3', 'Q4', 'Q1','Q2', 'Q3']}\n",
        "\n",
        "        col1, col2 = st.columns(2)\n",
        "        with col1:\n",
        "            st.write(\"Q\")\n",
        "            for q in QQQ['Q']:\n",
        "                st.write(q)\n",
        "        with col2:\n",
        "            st.write(\"Cena w górę, czy w dół\")\n",
        "            for year in one_year_preds:\n",
        "                st.write(year)\n"
      ],
      "metadata": {
        "colab": {
          "base_uri": "https://localhost:8080/"
        },
        "id": "l4IuFQAiqfiS",
        "outputId": "86316122-2e2d-496a-932a-0628b0d53a5f"
      },
      "execution_count": 2,
      "outputs": [
        {
          "output_type": "stream",
          "name": "stdout",
          "text": [
            "Writing app.py\n"
          ]
        }
      ]
    },
    {
      "cell_type": "code",
      "source": [
        "!npm install localtunnel"
      ],
      "metadata": {
        "colab": {
          "base_uri": "https://localhost:8080/"
        },
        "id": "v-_fhEYPqfkb",
        "outputId": "dce30c38-e0a0-4b96-c3f1-dda4aa8bbfb2"
      },
      "execution_count": 3,
      "outputs": [
        {
          "output_type": "stream",
          "name": "stdout",
          "text": [
            "\u001b[K\u001b[?25h\u001b[37;40mnpm\u001b[0m \u001b[0m\u001b[30;43mWARN\u001b[0m \u001b[0m\u001b[35msaveError\u001b[0m ENOENT: no such file or directory, open '/content/package.json'\n",
            "\u001b[0m\u001b[37;40mnpm\u001b[0m \u001b[0m\u001b[34;40mnotice\u001b[0m\u001b[35m\u001b[0m created a lockfile as package-lock.json. You should commit this file.\n",
            "\u001b[0m\u001b[37;40mnpm\u001b[0m \u001b[0m\u001b[30;43mWARN\u001b[0m \u001b[0m\u001b[35menoent\u001b[0m ENOENT: no such file or directory, open '/content/package.json'\n",
            "\u001b[0m\u001b[37;40mnpm\u001b[0m \u001b[0m\u001b[30;43mWARN\u001b[0m\u001b[35m\u001b[0m content No description\n",
            "\u001b[0m\u001b[37;40mnpm\u001b[0m \u001b[0m\u001b[30;43mWARN\u001b[0m\u001b[35m\u001b[0m content No repository field.\n",
            "\u001b[0m\u001b[37;40mnpm\u001b[0m \u001b[0m\u001b[30;43mWARN\u001b[0m\u001b[35m\u001b[0m content No README data\n",
            "\u001b[0m\u001b[37;40mnpm\u001b[0m \u001b[0m\u001b[30;43mWARN\u001b[0m\u001b[35m\u001b[0m content No license field.\n",
            "\u001b[0m\n",
            "+ localtunnel@2.0.2\n",
            "added 22 packages from 22 contributors and audited 22 packages in 2.161s\n",
            "\n",
            "3 packages are looking for funding\n",
            "  run `npm fund` for details\n",
            "\n",
            "found \u001b[92m0\u001b[0m vulnerabilities\n",
            "\n",
            "\u001b[K\u001b[?25h"
          ]
        }
      ]
    },
    {
      "cell_type": "code",
      "source": [
        "!streamlit run app.py &>/content/logs.txt &"
      ],
      "metadata": {
        "id": "0aEoOIMEqfmk"
      },
      "execution_count": 4,
      "outputs": []
    },
    {
      "cell_type": "code",
      "source": [
        "import socket\n",
        "import urllib.parse\n",
        "!npx localtunnel --port 8501 & curl ipv4.icanhazip.com"
      ],
      "metadata": {
        "colab": {
          "base_uri": "https://localhost:8080/"
        },
        "id": "XfSwyO2pqfoh",
        "outputId": "2ccba6bf-ba49-4a30-a936-e00a5f2a4562"
      },
      "execution_count": 5,
      "outputs": [
        {
          "output_type": "stream",
          "name": "stdout",
          "text": [
            "34.125.228.19\n",
            "\u001b[K\u001b[?25hnpx: installed 22 in 4.113s\n",
            "your url is: https://little-dancers-rhyme.loca.lt\n"
          ]
        }
      ]
    },
    {
      "cell_type": "code",
      "source": [],
      "metadata": {
        "id": "y8IVRkfbqfsR"
      },
      "execution_count": 5,
      "outputs": []
    },
    {
      "cell_type": "code",
      "source": [],
      "metadata": {
        "id": "nCq12CyBqfuG"
      },
      "execution_count": 5,
      "outputs": []
    }
  ]
}